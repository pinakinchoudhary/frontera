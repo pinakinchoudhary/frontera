{
 "cells": [
  {
   "cell_type": "code",
   "execution_count": 1,
   "metadata": {},
   "outputs": [],
   "source": [
    "import os\n",
    "from pydub import AudioSegment"
   ]
  },
  {
   "cell_type": "code",
   "execution_count": null,
   "metadata": {},
   "outputs": [],
   "source": [
    "def split_wav_files(directory):\n",
    "    for filename in os.listdir(directory):\n",
    "        if filename.endswith(\".wav\"):\n",
    "            filepath = os.path.join(directory, filename)\n",
    "            audio = AudioSegment.from_wav(filepath)\n",
    "            duration_sec = len(audio) / 1000  # Convert to seconds\n",
    "            \n",
    "            if duration_sec > 8:\n",
    "                part1 = audio[:5000]  # First 5 seconds\n",
    "                part2 = audio[5000:]  # Next 5 seconds\n",
    "                \n",
    "                part1.export(os.path.join(directory, f\"{filename[:-4]}_part1.wav\"), format=\"wav\")\n",
    "                part2.export(os.path.join(directory, f\"{filename[:-4]}_part2.wav\"), format=\"wav\")\n",
    "                print(f\"Split {filename} into two 5-second files.\")\n",
    "\n",
    "                # delete the original file\n",
    "                os.remove(filepath)\n",
    "            else:\n",
    "                print(f\"{filename} is less than 8 seconds long.\")\n",
    "        else:\n",
    "            print(f\"{filename} is not a .wav file.\")\n",
    "\n",
    "if __name__ == \"__main__\":\n",
    "    input_directory = \".\"  # Change this to your directory path\n",
    "    split_wav_files(input_directory)\n"
   ]
  },
  {
   "cell_type": "code",
   "execution_count": null,
   "metadata": {},
   "outputs": [],
   "source": [
    "# convert all non wav files to wav\n",
    "\n",
    "import os\n",
    "from pydub import AudioSegment\n",
    "\n",
    "def convert_to_wav(directory):\n",
    "    for filename in os.listdir(directory):\n",
    "        if filename.endswith(\".mp3\") or filename.endswith(\".m4a\") or filename.endswith(\".3gp\"):\n",
    "            filepath = os.path.join(directory, filename)\n",
    "            audio = AudioSegment.from_file(filepath)\n",
    "            audio.export(os.path.join(directory, f\"{filename[:-4]}.wav\"), format=\"wav\")\n",
    "            print(f\"Converted {filename} to .wav.\")\n",
    "        else:\n",
    "            print(f\"{filename} is not an .mp3, .m4a, or .3gp file.\")\n",
    "\n",
    "if __name__ == \"__main__\":\n",
    "    input_directory = \".\"  # Change this to your directory path\n",
    "    convert_to_wav(input_directory)"
   ]
  },
  {
   "cell_type": "code",
   "execution_count": null,
   "metadata": {},
   "outputs": [],
   "source": [
    "def split_wav_files(directory):\n",
    "    for filename in os.listdir(directory):\n",
    "        if filename.endswith(\".wav\"):\n",
    "            filepath = os.path.join(directory, filename)\n",
    "            audio = AudioSegment.from_wav(filepath)\n",
    "            duration_sec = len(audio) / 1000  # Convert to seconds\n",
    "            \n",
    "            if duration_sec > 5:\n",
    "                for i in range(0, len(audio), 5000):\n",
    "                    part = audio[i:i+5000]\n",
    "                    part.export(os.path.join(directory, f\"{filename[:-4]}_part{i//1000 + 1}.wav\"), format=\"wav\")\n",
    "                \n",
    "                print(f\"Split {filename} into 5-second parts.\")\n",
    "\n",
    "                # delete the original file\n",
    "                os.remove(filepath)\n",
    "            else:\n",
    "                print(f\"{filename} is less than 5 seconds long.\")\n",
    "        else:\n",
    "            print(f\"{filename} is not a .wav file.\")\n",
    "\n",
    "split_wav_files(input_directory)\n"
   ]
  },
  {
   "cell_type": "code",
   "execution_count": 2,
   "metadata": {},
   "outputs": [
    {
     "name": "stdout",
     "output_type": "stream",
     "text": [
      "862\n"
     ]
    }
   ],
   "source": [
    "# remove all .wav files\n",
    "\n",
    "import os\n",
    "\n",
    "def remove_wav_files(directory):\n",
    "    count = 0\n",
    "    for filename in os.listdir(directory):\n",
    "        if filename.endswith(\".wav\"):\n",
    "            count += 1\n",
    "        #    os.remove(os.path.join(directory, filename))\n",
    "        #     print(f\"Removed {filename}.\")\n",
    "        # else:  \n",
    "        #     print(f\"{filename} is not a .wav file.\")\n",
    "    return count\n",
    "\n",
    "if __name__ == \"__main__\":\n",
    "    input_directory = \"scream\"  # Change this to your directory path\n",
    "    print(remove_wav_files(input_directory))"
   ]
  },
  {
   "cell_type": "code",
   "execution_count": null,
   "metadata": {},
   "outputs": [],
   "source": [
    "# if .wav files exceed a number, remove them\n",
    "import os\n",
    "\n",
    "def remove_excess_wav_files(directory, max_files):\n",
    "    wav_files = [f for f in os.listdir(directory) if f.endswith(\".wav\")]\n",
    "    \n",
    "    if len(wav_files) > max_files:\n",
    "        files_to_remove = sorted(wav_files)[:len(wav_files) - max_files]  # Keep the latest/alphabetically last files\n",
    "        for filename in files_to_remove:\n",
    "            os.remove(os.path.join(directory, filename))\n",
    "            print(f\"Removed {filename}.\")\n",
    "    else:\n",
    "        print(\"No excess files to remove.\")\n",
    "\n",
    "if __name__ == \"__main__\":\n",
    "    input_directory = \".\"  # Change this to your directory path\n",
    "    max_files = 27\n",
    "    print(remove_excess_wav_files(input_directory, max_files))"
   ]
  }
 ],
 "metadata": {
  "kernelspec": {
   "display_name": "audio",
   "language": "python",
   "name": "python3"
  },
  "language_info": {
   "codemirror_mode": {
    "name": "ipython",
    "version": 3
   },
   "file_extension": ".py",
   "mimetype": "text/x-python",
   "name": "python",
   "nbconvert_exporter": "python",
   "pygments_lexer": "ipython3",
   "version": "3.9.21"
  }
 },
 "nbformat": 4,
 "nbformat_minor": 2
}
