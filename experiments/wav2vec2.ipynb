{
 "cells": [
  {
   "cell_type": "code",
   "execution_count": 8,
   "metadata": {},
   "outputs": [],
   "source": [
    "import os\n",
    "import librosa\n",
    "import numpy as np\n",
    "import pandas as pd\n",
    "import tensorflow as tf\n",
    "from concurrent.futures import ThreadPoolExecutor\n",
    "\n",
    "SAMPLE_RATE = 16000\n",
    "TARGET_LENGTH = 5 * SAMPLE_RATE  # 5 seconds\n",
    "\n",
    "def load_and_preprocess(filename, augment=False):\n",
    "    wav, _ = librosa.load(filename, sr=SAMPLE_RATE, mono=True)\n",
    "    wav = librosa.util.normalize(wav)  # Normalize amplitude\n",
    "\n",
    "    # Padding or truncation\n",
    "    if len(wav) < TARGET_LENGTH:\n",
    "        wav = np.pad(wav, (0, TARGET_LENGTH - len(wav)), 'constant')\n",
    "    else:\n",
    "        wav = wav[:TARGET_LENGTH]\n",
    "\n",
    "    if augment:\n",
    "        wav = apply_augmentations(wav)\n",
    "\n",
    "    # Padding or truncation\n",
    "    if len(wav) < TARGET_LENGTH:\n",
    "        wav = np.pad(wav, (0, TARGET_LENGTH - len(wav)), 'constant')\n",
    "    else:\n",
    "        wav = wav[:TARGET_LENGTH]\n",
    "\n",
    "    return wav\n",
    "\n",
    "def apply_augmentations(wav):\n",
    "    \"\"\"Applies data augmentation techniques\"\"\"\n",
    "    # Time Stretching (random rate between 0.8x and 1.2x)\n",
    "    if np.random.rand() < 0.5:  \n",
    "        rate = np.random.uniform(0.8, 1.2)\n",
    "        wav = librosa.effects.time_stretch(wav, rate=rate)\n",
    "\n",
    "    # Time Shifting (random shift up to 0.5 sec)\n",
    "    if np.random.rand() < 0.5:\n",
    "        shift = np.random.randint(0, int(0.5 * SAMPLE_RATE))  # Max shift = 0.5 sec\n",
    "        wav = np.roll(wav, shift)\n",
    "\n",
    "    # Pitch Shifting (random pitch shift of ±2 semitones)\n",
    "    if np.random.rand() < 0.5:\n",
    "        semitones = np.random.uniform(-2, 2)\n",
    "        wav = librosa.effects.pitch_shift(wav, sr=SAMPLE_RATE, n_steps=semitones)\n",
    "\n",
    "    # Background Noise Addition (random noise at 5-10% of signal amplitude)\n",
    "    if np.random.rand() < 0.5:\n",
    "        noise = np.random.randn(len(wav)) * 0.05  # 5% noise level\n",
    "        wav = wav + noise\n",
    "\n",
    "    # Dynamic Range Compression (DRC)\n",
    "    if np.random.rand() < 0.5:\n",
    "        wav = librosa.effects.percussive(wav)  # Simulates DRC by reducing background energy\n",
    "\n",
    "    return wav\n",
    "\n",
    "def process_dataset_parallel(file_paths, augment=False):\n",
    "    \"\"\"Loads and preprocesses audio files in parallel\"\"\"\n",
    "    with ThreadPoolExecutor(max_workers=8) as executor:\n",
    "        processed_wavs = list(executor.map(lambda f: load_and_preprocess(f, augment), file_paths))\n",
    "    return processed_wavs\n",
    "\n",
    "import torch\n",
    "\n",
    "def load_dataset(base_dir, augment=False):\n",
    "    file_paths, labels = [], []\n",
    "    label_map = {\"cry\": 0, \"scream\": 1, \"speech\": 2}\n",
    "\n",
    "    for subdir, _, files in os.walk(base_dir):\n",
    "        for file in files:\n",
    "            if file.endswith(\".wav\"):\n",
    "                file_paths.append(os.path.join(subdir, file))\n",
    "                labels.append(label_map[os.path.basename(subdir)])\n",
    "\n",
    "    # Load and preprocess in parallel\n",
    "    audio_data = process_dataset_parallel(file_paths, augment=augment)\n",
    "\n",
    "    # Stack list of arrays and convert to PyTorch tensors\n",
    "    data_tensor = torch.tensor(np.stack(audio_data), dtype=torch.float32)\n",
    "    labels_tensor = torch.tensor(labels, dtype=torch.int64)\n",
    "\n",
    "    # Create and return a PyTorch dataset\n",
    "    dataset = torch.utils.data.TensorDataset(data_tensor, labels_tensor)\n",
    "    return dataset"
   ]
  },
  {
   "cell_type": "code",
   "execution_count": 9,
   "metadata": {},
   "outputs": [],
   "source": [
    "# Load the dataset\n",
    "dataset = load_dataset(\"data\", augment=True)"
   ]
  },
  {
   "cell_type": "code",
   "execution_count": 10,
   "metadata": {},
   "outputs": [],
   "source": [
    "# Split the dataset into train, validation, and test sets taking care of stratification\n",
    "train_size = int(0.72 * len(dataset))\n",
    "val_size = int(0.18 * len(dataset))\n",
    "test_size = len(dataset) - train_size - val_size\n",
    "\n",
    "train_dataset, val_dataset, test_dataset = torch.utils.data.random_split(\n",
    "    dataset, [train_size, val_size, test_size], generator=torch.Generator().manual_seed(42)\n",
    ")"
   ]
  },
  {
   "cell_type": "code",
   "execution_count": 6,
   "metadata": {},
   "outputs": [
    {
     "data": {
      "text/plain": [
       "((tensor([ 4.5724e-04,  4.5922e-04,  7.6810e-04,  ..., -3.2593e-04,\n",
       "          -2.3459e-04, -2.9297e-05]),\n",
       "  tensor(1)),\n",
       " torch.Size([80000]))"
      ]
     },
     "execution_count": 6,
     "metadata": {},
     "output_type": "execute_result"
    }
   ],
   "source": [
    "train_dataset[0], train_dataset[0][0].shape"
   ]
  },
  {
   "cell_type": "code",
   "execution_count": null,
   "metadata": {},
   "outputs": [
    {
     "name": "stderr",
     "output_type": "stream",
     "text": [
      "/home/pinakinc/miniforge3/lib/python3.12/site-packages/tqdm/auto.py:21: TqdmWarning: IProgress not found. Please update jupyter and ipywidgets. See https://ipywidgets.readthedocs.io/en/stable/user_install.html\n",
      "  from .autonotebook import tqdm as notebook_tqdm\n",
      "/home/pinakinc/miniforge3/lib/python3.12/site-packages/transformers/configuration_utils.py:315: UserWarning: Passing `gradient_checkpointing` to a config initialization is deprecated and will be removed in v5 Transformers. Using `model.gradient_checkpointing_enable()` instead, or if you are using the `Trainer` API, pass `gradient_checkpointing=True` in your `TrainingArguments`.\n",
      "  warnings.warn(\n",
      "Some weights of Wav2Vec2ForSequenceClassification were not initialized from the model checkpoint at facebook/wav2vec2-base and are newly initialized: ['classifier.bias', 'classifier.weight', 'projector.bias', 'projector.weight']\n",
      "You should probably TRAIN this model on a down-stream task to be able to use it for predictions and inference.\n",
      "/home/pinakinc/miniforge3/lib/python3.12/site-packages/transformers/training_args.py:1594: FutureWarning: `evaluation_strategy` is deprecated and will be removed in version 4.46 of 🤗 Transformers. Use `eval_strategy` instead\n",
      "  warnings.warn(\n",
      "\u001b[34m\u001b[1mwandb\u001b[0m: \u001b[33mWARNING\u001b[0m The `run_name` is currently set to the same value as `TrainingArguments.output_dir`. If this was not intended, please specify a different run name by setting the `TrainingArguments.run_name` parameter.\n",
      "\u001b[34m\u001b[1mwandb\u001b[0m: Using wandb-core as the SDK backend.  Please refer to https://wandb.me/wandb-core for more information.\n",
      "\u001b[34m\u001b[1mwandb\u001b[0m: Currently logged in as: \u001b[33mpinakinchoudhary\u001b[0m (\u001b[33mpinakinchoudhary-indian-institute-of-science\u001b[0m) to \u001b[32mhttps://api.wandb.ai\u001b[0m. Use \u001b[1m`wandb login --relogin`\u001b[0m to force relogin\n"
     ]
    },
    {
     "data": {
      "text/html": [
       "Tracking run with wandb version 0.19.7"
      ],
      "text/plain": [
       "<IPython.core.display.HTML object>"
      ]
     },
     "metadata": {},
     "output_type": "display_data"
    },
    {
     "data": {
      "text/html": [
       "Run data is saved locally in <code>/home/pinakinc/Desktop/frontera/wandb/run-20250223_045800-q6mlquxj</code>"
      ],
      "text/plain": [
       "<IPython.core.display.HTML object>"
      ]
     },
     "metadata": {},
     "output_type": "display_data"
    },
    {
     "data": {
      "text/html": [
       "Syncing run <strong><a href='https://wandb.ai/pinakinchoudhary-indian-institute-of-science/huggingface/runs/q6mlquxj' target=\"_blank\">./results</a></strong> to <a href='https://wandb.ai/pinakinchoudhary-indian-institute-of-science/huggingface' target=\"_blank\">Weights & Biases</a> (<a href='https://wandb.me/developer-guide' target=\"_blank\">docs</a>)<br>"
      ],
      "text/plain": [
       "<IPython.core.display.HTML object>"
      ]
     },
     "metadata": {},
     "output_type": "display_data"
    },
    {
     "data": {
      "text/html": [
       " View project at <a href='https://wandb.ai/pinakinchoudhary-indian-institute-of-science/huggingface' target=\"_blank\">https://wandb.ai/pinakinchoudhary-indian-institute-of-science/huggingface</a>"
      ],
      "text/plain": [
       "<IPython.core.display.HTML object>"
      ]
     },
     "metadata": {},
     "output_type": "display_data"
    },
    {
     "data": {
      "text/html": [
       " View run at <a href='https://wandb.ai/pinakinchoudhary-indian-institute-of-science/huggingface/runs/q6mlquxj' target=\"_blank\">https://wandb.ai/pinakinchoudhary-indian-institute-of-science/huggingface/runs/q6mlquxj</a>"
      ],
      "text/plain": [
       "<IPython.core.display.HTML object>"
      ]
     },
     "metadata": {},
     "output_type": "display_data"
    },
    {
     "data": {
      "text/html": [
       "\n",
       "    <div>\n",
       "      \n",
       "      <progress value='720' max='720' style='width:300px; height:20px; vertical-align: middle;'></progress>\n",
       "      [720/720 12:11, Epoch 20/20]\n",
       "    </div>\n",
       "    <table border=\"1\" class=\"dataframe\">\n",
       "  <thead>\n",
       " <tr style=\"text-align: left;\">\n",
       "      <th>Epoch</th>\n",
       "      <th>Training Loss</th>\n",
       "      <th>Validation Loss</th>\n",
       "    </tr>\n",
       "  </thead>\n",
       "  <tbody>\n",
       "    <tr>\n",
       "      <td>1</td>\n",
       "      <td>1.083000</td>\n",
       "      <td>1.077816</td>\n",
       "    </tr>\n",
       "    <tr>\n",
       "      <td>2</td>\n",
       "      <td>1.055700</td>\n",
       "      <td>1.063676</td>\n",
       "    </tr>\n",
       "    <tr>\n",
       "      <td>3</td>\n",
       "      <td>1.005300</td>\n",
       "      <td>1.014180</td>\n",
       "    </tr>\n",
       "    <tr>\n",
       "      <td>4</td>\n",
       "      <td>0.978100</td>\n",
       "      <td>1.026374</td>\n",
       "    </tr>\n",
       "    <tr>\n",
       "      <td>5</td>\n",
       "      <td>0.874600</td>\n",
       "      <td>0.902249</td>\n",
       "    </tr>\n",
       "    <tr>\n",
       "      <td>6</td>\n",
       "      <td>0.792700</td>\n",
       "      <td>0.849406</td>\n",
       "    </tr>\n",
       "    <tr>\n",
       "      <td>7</td>\n",
       "      <td>0.678200</td>\n",
       "      <td>0.863159</td>\n",
       "    </tr>\n",
       "    <tr>\n",
       "      <td>8</td>\n",
       "      <td>0.581300</td>\n",
       "      <td>0.792329</td>\n",
       "    </tr>\n",
       "    <tr>\n",
       "      <td>9</td>\n",
       "      <td>0.488200</td>\n",
       "      <td>0.690895</td>\n",
       "    </tr>\n",
       "    <tr>\n",
       "      <td>10</td>\n",
       "      <td>0.362600</td>\n",
       "      <td>0.702230</td>\n",
       "    </tr>\n",
       "    <tr>\n",
       "      <td>11</td>\n",
       "      <td>0.349100</td>\n",
       "      <td>0.684391</td>\n",
       "    </tr>\n",
       "    <tr>\n",
       "      <td>12</td>\n",
       "      <td>0.273200</td>\n",
       "      <td>0.700543</td>\n",
       "    </tr>\n",
       "    <tr>\n",
       "      <td>13</td>\n",
       "      <td>0.285500</td>\n",
       "      <td>0.669476</td>\n",
       "    </tr>\n",
       "    <tr>\n",
       "      <td>14</td>\n",
       "      <td>0.285700</td>\n",
       "      <td>0.722998</td>\n",
       "    </tr>\n",
       "    <tr>\n",
       "      <td>15</td>\n",
       "      <td>0.162800</td>\n",
       "      <td>0.736923</td>\n",
       "    </tr>\n",
       "    <tr>\n",
       "      <td>16</td>\n",
       "      <td>0.226100</td>\n",
       "      <td>0.671107</td>\n",
       "    </tr>\n",
       "    <tr>\n",
       "      <td>17</td>\n",
       "      <td>0.113900</td>\n",
       "      <td>0.736175</td>\n",
       "    </tr>\n",
       "    <tr>\n",
       "      <td>18</td>\n",
       "      <td>0.145400</td>\n",
       "      <td>0.749100</td>\n",
       "    </tr>\n",
       "    <tr>\n",
       "      <td>19</td>\n",
       "      <td>0.082400</td>\n",
       "      <td>0.726417</td>\n",
       "    </tr>\n",
       "    <tr>\n",
       "      <td>20</td>\n",
       "      <td>0.126000</td>\n",
       "      <td>0.724216</td>\n",
       "    </tr>\n",
       "  </tbody>\n",
       "</table><p>"
      ],
      "text/plain": [
       "<IPython.core.display.HTML object>"
      ]
     },
     "metadata": {},
     "output_type": "display_data"
    },
    {
     "data": {
      "text/plain": [
       "TrainOutput(global_step=720, training_loss=0.49756955256064733, metrics={'train_runtime': 733.521, 'train_samples_per_second': 7.771, 'train_steps_per_second': 0.982, 'total_flos': 2.58741733392e+17, 'train_loss': 0.49756955256064733, 'epoch': 20.0})"
      ]
     },
     "execution_count": 5,
     "metadata": {},
     "output_type": "execute_result"
    }
   ],
   "source": [
    "import torch\n",
    "from torch.utils.data import DataLoader\n",
    "from transformers import (\n",
    "    Wav2Vec2ForSequenceClassification,\n",
    "    Wav2Vec2Processor,\n",
    "    Trainer,\n",
    "    TrainingArguments\n",
    ")\n",
    "\n",
    "# Load the processor and model\n",
    "processor = Wav2Vec2Processor.from_pretrained(\"facebook/wav2vec2-base\")\n",
    "model = Wav2Vec2ForSequenceClassification.from_pretrained(\"facebook/wav2vec2-base\", num_labels=3)\n",
    "\n",
    "# Define the data collator\n",
    "def data_collator(batch):\n",
    "    input_values = [item[0] for item in batch]\n",
    "    labels = torch.tensor([item[1] for item in batch])\n",
    "    input_values_padded = torch.nn.utils.rnn.pad_sequence(input_values, batch_first=True)\n",
    "    return {\"input_values\": input_values_padded, \"labels\": labels}\n",
    "\n",
    "# Create DataLoaders\n",
    "train_loader = DataLoader(train_dataset, batch_size=8, shuffle=True, collate_fn=data_collator)\n",
    "val_loader = DataLoader(val_dataset, batch_size=8, shuffle=False, collate_fn=data_collator)\n",
    "test_loader = DataLoader(test_dataset, batch_size=8, shuffle=False, collate_fn=data_collator)\n",
    "\n",
    "# Define training arguments\n",
    "training_args = TrainingArguments(\n",
    "    output_dir=\"./results\",\n",
    "    evaluation_strategy=\"epoch\",\n",
    "    learning_rate=1e-5,\n",
    "    per_device_train_batch_size=8,\n",
    "    per_device_eval_batch_size=8,\n",
    "    num_train_epochs=20,\n",
    "    weight_decay=0.01,\n",
    "    logging_dir=\"./logs\",\n",
    "    logging_steps=10,\n",
    "    save_total_limit=1,\n",
    "    save_strategy=\"epoch\",\n",
    "    load_best_model_at_end=True,\n",
    "    metric_for_best_model=\"eval_loss\"\n",
    ")\n",
    "\n",
    "# Initialize the Trainer\n",
    "trainer = Trainer(\n",
    "    model=model,\n",
    "    args=training_args,\n",
    "    train_dataset=train_dataset,\n",
    "    eval_dataset=val_dataset,\n",
    "    data_collator=data_collator,\n",
    ")\n",
    "\n",
    "# Fine-tune the model\n",
    "trainer.train()"
   ]
  },
  {
   "cell_type": "code",
   "execution_count": 7,
   "metadata": {},
   "outputs": [
    {
     "data": {
      "text/html": [],
      "text/plain": [
       "<IPython.core.display.HTML object>"
      ]
     },
     "metadata": {},
     "output_type": "display_data"
    },
    {
     "name": "stdout",
     "output_type": "stream",
     "text": [
      "Precision: 0.7483\n",
      "Accuracy: 0.7000\n",
      "F1 Score: 0.7031\n",
      "Confusion Matrix:\n",
      "[[18  1  0]\n",
      " [ 1  4  2]\n",
      " [ 1  7  6]]\n"
     ]
    }
   ],
   "source": [
    "from sklearn.metrics import precision_score, accuracy_score, f1_score, confusion_matrix\n",
    "import numpy as np\n",
    "\n",
    "from transformers import Wav2Vec2ForSequenceClassification\n",
    "\n",
    "# Load the best model weights\n",
    "best_model = Wav2Vec2ForSequenceClassification.from_pretrained(\"./results/checkpoint-468\")\n",
    "\n",
    "# Initialize the Trainer with the best model\n",
    "trainer = Trainer(\n",
    "    model=best_model,\n",
    "    args=training_args,\n",
    "    train_dataset=train_dataset,\n",
    "    eval_dataset=val_dataset,\n",
    "    data_collator=data_collator,\n",
    ")\n",
    "\n",
    "# Evaluate the model on the test dataset\n",
    "predictions = trainer.predict(test_dataset)\n",
    "\n",
    "# Get the predicted labels and true labels\n",
    "preds = np.argmax(predictions.predictions, axis=1)\n",
    "labels = predictions.label_ids\n",
    "\n",
    "# Compute metrics\n",
    "precision = precision_score(labels, preds, average='weighted')\n",
    "accuracy = accuracy_score(labels, preds)\n",
    "f1 = f1_score(labels, preds, average='weighted')\n",
    "conf_matrix = confusion_matrix(labels, preds)\n",
    "\n",
    "# Print the metrics\n",
    "print(f\"Precision: {precision:.4f}\")\n",
    "print(f\"Accuracy: {accuracy:.4f}\")\n",
    "print(f\"F1 Score: {f1:.4f}\")\n",
    "print(\"Confusion Matrix:\")\n",
    "print(conf_matrix)"
   ]
  },
  {
   "cell_type": "code",
   "execution_count": 1,
   "metadata": {},
   "outputs": [
    {
     "name": "stderr",
     "output_type": "stream",
     "text": [
      "2025-02-23 13:07:26.312263: I tensorflow/core/util/port.cc:153] oneDNN custom operations are on. You may see slightly different numerical results due to floating-point round-off errors from different computation orders. To turn them off, set the environment variable `TF_ENABLE_ONEDNN_OPTS=0`.\n",
      "2025-02-23 13:07:26.320126: E external/local_xla/xla/stream_executor/cuda/cuda_fft.cc:477] Unable to register cuFFT factory: Attempting to register factory for plugin cuFFT when one has already been registered\n",
      "WARNING: All log messages before absl::InitializeLog() is called are written to STDERR\n",
      "E0000 00:00:1740296246.329068 3020198 cuda_dnn.cc:8310] Unable to register cuDNN factory: Attempting to register factory for plugin cuDNN when one has already been registered\n",
      "E0000 00:00:1740296246.331730 3020198 cuda_blas.cc:1418] Unable to register cuBLAS factory: Attempting to register factory for plugin cuBLAS when one has already been registered\n",
      "2025-02-23 13:07:26.341245: I tensorflow/core/platform/cpu_feature_guard.cc:210] This TensorFlow binary is optimized to use available CPU instructions in performance-critical operations.\n",
      "To enable the following instructions: AVX2 AVX_VNNI FMA, in other operations, rebuild TensorFlow with the appropriate compiler flags.\n"
     ]
    }
   ],
   "source": [
    "import os\n",
    "import librosa\n",
    "import numpy as np\n",
    "import pandas as pd\n",
    "import tensorflow as tf\n",
    "from concurrent.futures import ThreadPoolExecutor\n",
    "\n",
    "SAMPLE_RATE = 16000\n",
    "TARGET_LENGTH = 5 * SAMPLE_RATE  # 5 seconds\n",
    "\n",
    "def load_and_preprocess(filename, augment=False):\n",
    "    wav, _ = librosa.load(filename, sr=SAMPLE_RATE, mono=True)\n",
    "    wav = librosa.util.normalize(wav)  # Normalize amplitude\n",
    "\n",
    "    # Padding or truncation\n",
    "    if len(wav) < TARGET_LENGTH:\n",
    "        wav = np.pad(wav, (0, TARGET_LENGTH - len(wav)), 'constant')\n",
    "    else:\n",
    "        wav = wav[:TARGET_LENGTH]\n",
    "\n",
    "    if augment:\n",
    "        wav = apply_augmentations(wav)\n",
    "\n",
    "    # Padding or truncation\n",
    "    if len(wav) < TARGET_LENGTH:\n",
    "        wav = np.pad(wav, (0, TARGET_LENGTH - len(wav)), 'constant')\n",
    "    else:\n",
    "        wav = wav[:TARGET_LENGTH]\n",
    "\n",
    "    return wav\n",
    "\n",
    "def apply_augmentations(wav):\n",
    "    \"\"\"Applies data augmentation techniques\"\"\"\n",
    "    # Time Stretching (random rate between 0.8x and 1.2x)\n",
    "    if np.random.rand() < 0.5:  \n",
    "        rate = np.random.uniform(0.8, 1.2)\n",
    "        wav = librosa.effects.time_stretch(wav, rate=rate)\n",
    "\n",
    "    # Time Shifting (random shift up to 0.5 sec)\n",
    "    if np.random.rand() < 0.5:\n",
    "        shift = np.random.randint(0, int(0.5 * SAMPLE_RATE))  # Max shift = 0.5 sec\n",
    "        wav = np.roll(wav, shift)\n",
    "\n",
    "    # Pitch Shifting (random pitch shift of ±2 semitones)\n",
    "    if np.random.rand() < 0.5:\n",
    "        semitones = np.random.uniform(-2, 2)\n",
    "        wav = librosa.effects.pitch_shift(wav, sr=SAMPLE_RATE, n_steps=semitones)\n",
    "\n",
    "    # Background Noise Addition (random noise at 5-10% of signal amplitude)\n",
    "    if np.random.rand() < 0.5:\n",
    "        noise = np.random.randn(len(wav)) * 0.05  # 5% noise level\n",
    "        wav = wav + noise\n",
    "\n",
    "    # Dynamic Range Compression (DRC)\n",
    "    if np.random.rand() < 0.5:\n",
    "        wav = librosa.effects.percussive(wav)  # Simulates DRC by reducing background energy\n",
    "\n",
    "    return wav\n",
    "\n",
    "def process_dataset_parallel(file_paths, augment=False):\n",
    "    \"\"\"Loads and preprocesses audio files in parallel\"\"\"\n",
    "    with ThreadPoolExecutor(max_workers=8) as executor:\n",
    "        processed_wavs = list(executor.map(lambda f: load_and_preprocess(f, augment), file_paths))\n",
    "    return processed_wavs\n",
    "\n",
    "import torch\n",
    "\n",
    "def load_dataset(base_dir, augment=False):\n",
    "    file_paths, labels = [], []\n",
    "    label_map = {\"cry\": 0, \"scream\": 1, \"speech\": 2}\n",
    "\n",
    "    for subdir, _, files in os.walk(base_dir):\n",
    "        for file in files:\n",
    "            if file.endswith(\".wav\"):\n",
    "                file_paths.append(os.path.join(subdir, file))\n",
    "                labels.append(label_map[os.path.basename(subdir)])\n",
    "\n",
    "    # Load and preprocess in parallel\n",
    "    audio_data = process_dataset_parallel(file_paths, augment=augment)\n",
    "\n",
    "    # Stack list of arrays and convert to PyTorch tensors\n",
    "    data_tensor = torch.tensor(np.stack(audio_data), dtype=torch.float32)\n",
    "    labels_tensor = torch.tensor(labels, dtype=torch.int64)\n",
    "\n",
    "    # Create and return a PyTorch dataset\n",
    "    dataset = torch.utils.data.TensorDataset(data_tensor, labels_tensor)\n",
    "    return dataset"
   ]
  },
  {
   "cell_type": "code",
   "execution_count": 2,
   "metadata": {},
   "outputs": [],
   "source": [
    "# Load the dataset\n",
    "dataset = load_dataset(\"data\", augment=True)"
   ]
  },
  {
   "cell_type": "code",
   "execution_count": 3,
   "metadata": {},
   "outputs": [],
   "source": [
    "# Split the dataset into train, validation, and test sets taking care of stratification\n",
    "train_size = int(0.72 * len(dataset))\n",
    "val_size = int(0.18 * len(dataset))\n",
    "test_size = len(dataset) - train_size - val_size\n",
    "\n",
    "train_dataset, val_dataset, test_dataset = torch.utils.data.random_split(\n",
    "    dataset, [train_size, val_size, test_size], generator=torch.Generator().manual_seed(42)\n",
    ")"
   ]
  },
  {
   "cell_type": "code",
   "execution_count": 4,
   "metadata": {},
   "outputs": [
    {
     "name": "stderr",
     "output_type": "stream",
     "text": [
      "/home/pinakinc/miniforge3/lib/python3.12/site-packages/tqdm/auto.py:21: TqdmWarning: IProgress not found. Please update jupyter and ipywidgets. See https://ipywidgets.readthedocs.io/en/stable/user_install.html\n",
      "  from .autonotebook import tqdm as notebook_tqdm\n",
      "/home/pinakinc/miniforge3/lib/python3.12/site-packages/transformers/configuration_utils.py:315: UserWarning: Passing `gradient_checkpointing` to a config initialization is deprecated and will be removed in v5 Transformers. Using `model.gradient_checkpointing_enable()` instead, or if you are using the `Trainer` API, pass `gradient_checkpointing=True` in your `TrainingArguments`.\n",
      "  warnings.warn(\n"
     ]
    }
   ],
   "source": [
    "import torch\n",
    "from torch.utils.data import DataLoader, TensorDataset\n",
    "from transformers import Wav2Vec2Processor, Wav2Vec2Model\n",
    "from tqdm import tqdm\n",
    "import torch.nn as nn\n",
    "import torch.optim as optim\n",
    "\n",
    "# Load the processor and model\n",
    "processor = Wav2Vec2Processor.from_pretrained(\"facebook/wav2vec2-base\")\n",
    "wav2vec2_model = Wav2Vec2Model.from_pretrained(\"facebook/wav2vec2-base\")\n",
    "\n",
    "# Define the data collator\n",
    "def data_collator(batch):\n",
    "    input_values = [item[0] for item in batch]\n",
    "    labels = torch.tensor([item[1] for item in batch])\n",
    "    input_values_padded = torch.nn.utils.rnn.pad_sequence(input_values, batch_first=True)\n",
    "    return {\"input_values\": input_values_padded, \"labels\": labels}\n",
    "\n",
    "# Create DataLoaders\n",
    "train_loader = DataLoader(train_dataset, batch_size=8, shuffle=True, collate_fn=data_collator)\n",
    "val_loader = DataLoader(val_dataset, batch_size=8, shuffle=False, collate_fn=data_collator)\n",
    "test_loader = DataLoader(test_dataset, batch_size=8, shuffle=False, collate_fn=data_collator)\n",
    "\n",
    "# Extract embeddings\n",
    "def extract_embeddings(dataloader):\n",
    "    embeddings = []\n",
    "    labels = []\n",
    "    wav2vec2_model.eval()\n",
    "    with torch.no_grad():\n",
    "        for batch in dataloader:\n",
    "            input_values = batch[\"input_values\"]\n",
    "            label = batch[\"labels\"]\n",
    "            outputs = wav2vec2_model(input_values).last_hidden_state.mean(dim=1)  # Mean pooling\n",
    "            embeddings.append(outputs)\n",
    "            labels.append(label)\n",
    "    return torch.cat(embeddings), torch.cat(labels)\n",
    "\n",
    "train_embeddings, train_labels = extract_embeddings(train_loader)\n",
    "val_embeddings, val_labels = extract_embeddings(val_loader)\n",
    "test_embeddings, test_labels = extract_embeddings(test_loader)\n",
    "\n",
    "# Create TensorDatasets for embeddings\n",
    "train_dataset = TensorDataset(train_embeddings, train_labels)\n",
    "val_dataset = TensorDataset(val_embeddings, val_labels)\n",
    "test_dataset = TensorDataset(test_embeddings, test_labels)"
   ]
  },
  {
   "cell_type": "code",
   "execution_count": 5,
   "metadata": {},
   "outputs": [
    {
     "name": "stderr",
     "output_type": "stream",
     "text": [
      "Training Epoch 1: 100%|██████████| 36/36 [00:00<00:00, 867.92it/s]\n",
      "Validation Epoch 1: 100%|██████████| 9/9 [00:00<00:00, 5751.75it/s]\n"
     ]
    },
    {
     "name": "stdout",
     "output_type": "stream",
     "text": [
      "Epoch 1/40, Train Loss: 0.137613694709644, Train Accuracy: 0.43859649122807015, Validation Loss: 0.1387349887632988, Validation Accuracy: 0.38028169014084506\n"
     ]
    },
    {
     "name": "stderr",
     "output_type": "stream",
     "text": [
      "Training Epoch 2: 100%|██████████| 36/36 [00:00<00:00, 1654.87it/s]\n",
      "Validation Epoch 2: 100%|██████████| 9/9 [00:00<00:00, 4340.43it/s]\n"
     ]
    },
    {
     "name": "stdout",
     "output_type": "stream",
     "text": [
      "Epoch 2/40, Train Loss: 0.1353290829742164, Train Accuracy: 0.43157894736842106, Validation Loss: 0.1383184127404656, Validation Accuracy: 0.3380281690140845\n"
     ]
    },
    {
     "name": "stderr",
     "output_type": "stream",
     "text": [
      "Training Epoch 3: 100%|██████████| 36/36 [00:00<00:00, 1629.21it/s]\n",
      "Validation Epoch 3: 100%|██████████| 9/9 [00:00<00:00, 6090.47it/s]\n"
     ]
    },
    {
     "name": "stdout",
     "output_type": "stream",
     "text": [
      "Epoch 3/40, Train Loss: 0.13326906133116337, Train Accuracy: 0.44912280701754387, Validation Loss: 0.13801038768929494, Validation Accuracy: 0.30985915492957744\n"
     ]
    },
    {
     "name": "stderr",
     "output_type": "stream",
     "text": [
      "Training Epoch 4: 100%|██████████| 36/36 [00:00<00:00, 1654.83it/s]\n",
      "Validation Epoch 4: 100%|██████████| 9/9 [00:00<00:00, 6387.26it/s]\n"
     ]
    },
    {
     "name": "stdout",
     "output_type": "stream",
     "text": [
      "Epoch 4/40, Train Loss: 0.1313614859915616, Train Accuracy: 0.5263157894736842, Validation Loss: 0.13631603583483629, Validation Accuracy: 0.38028169014084506\n"
     ]
    },
    {
     "name": "stderr",
     "output_type": "stream",
     "text": [
      "Training Epoch 5: 100%|██████████| 36/36 [00:00<00:00, 1619.42it/s]\n",
      "Validation Epoch 5: 100%|██████████| 9/9 [00:00<00:00, 3461.28it/s]\n"
     ]
    },
    {
     "name": "stdout",
     "output_type": "stream",
     "text": [
      "Epoch 5/40, Train Loss: 0.1295450166652077, Train Accuracy: 0.5473684210526316, Validation Loss: 0.1357431688778837, Validation Accuracy: 0.352112676056338\n"
     ]
    },
    {
     "name": "stderr",
     "output_type": "stream",
     "text": [
      "Training Epoch 6: 100%|██████████| 36/36 [00:00<00:00, 935.52it/s]\n",
      "Validation Epoch 6: 100%|██████████| 9/9 [00:00<00:00, 6141.00it/s]\n"
     ]
    },
    {
     "name": "stdout",
     "output_type": "stream",
     "text": [
      "Epoch 6/40, Train Loss: 0.12759112642522444, Train Accuracy: 0.5333333333333333, Validation Loss: 0.13513111564475047, Validation Accuracy: 0.36619718309859156\n"
     ]
    },
    {
     "name": "stderr",
     "output_type": "stream",
     "text": [
      "Training Epoch 7: 100%|██████████| 36/36 [00:00<00:00, 1675.86it/s]\n",
      "Validation Epoch 7: 100%|██████████| 9/9 [00:00<00:00, 3434.20it/s]\n"
     ]
    },
    {
     "name": "stdout",
     "output_type": "stream",
     "text": [
      "Epoch 7/40, Train Loss: 0.1259805863363701, Train Accuracy: 0.5614035087719298, Validation Loss: 0.13397398800917074, Validation Accuracy: 0.39436619718309857\n"
     ]
    },
    {
     "name": "stderr",
     "output_type": "stream",
     "text": [
      "Training Epoch 8: 100%|██████████| 36/36 [00:00<00:00, 936.46it/s]\n",
      "Validation Epoch 8: 100%|██████████| 9/9 [00:00<00:00, 3496.22it/s]\n"
     ]
    },
    {
     "name": "stdout",
     "output_type": "stream",
     "text": [
      "Epoch 8/40, Train Loss: 0.12437162022841604, Train Accuracy: 0.6140350877192983, Validation Loss: 0.13304909434117063, Validation Accuracy: 0.4507042253521127\n"
     ]
    },
    {
     "name": "stderr",
     "output_type": "stream",
     "text": [
      "Training Epoch 9: 100%|██████████| 36/36 [00:00<00:00, 941.17it/s]\n",
      "Validation Epoch 9: 100%|██████████| 9/9 [00:00<00:00, 3497.52it/s]\n"
     ]
    },
    {
     "name": "stdout",
     "output_type": "stream",
     "text": [
      "Epoch 9/40, Train Loss: 0.12276804238034968, Train Accuracy: 0.6175438596491228, Validation Loss: 0.13192518664077973, Validation Accuracy: 0.4788732394366197\n"
     ]
    },
    {
     "name": "stderr",
     "output_type": "stream",
     "text": [
      "Training Epoch 10: 100%|██████████| 36/36 [00:00<00:00, 942.48it/s]\n",
      "Validation Epoch 10: 100%|██████████| 9/9 [00:00<00:00, 6246.69it/s]\n"
     ]
    },
    {
     "name": "stdout",
     "output_type": "stream",
     "text": [
      "Epoch 10/40, Train Loss: 0.12140254137808816, Train Accuracy: 0.6280701754385964, Validation Loss: 0.13125305696272513, Validation Accuracy: 0.49295774647887325\n"
     ]
    },
    {
     "name": "stderr",
     "output_type": "stream",
     "text": [
      "Training Epoch 11: 100%|██████████| 36/36 [00:00<00:00, 1672.98it/s]\n",
      "Validation Epoch 11: 100%|██████████| 9/9 [00:00<00:00, 5546.39it/s]\n"
     ]
    },
    {
     "name": "stdout",
     "output_type": "stream",
     "text": [
      "Epoch 11/40, Train Loss: 0.11954563186879744, Train Accuracy: 0.6070175438596491, Validation Loss: 0.13110948448449794, Validation Accuracy: 0.4647887323943662\n"
     ]
    },
    {
     "name": "stderr",
     "output_type": "stream",
     "text": [
      "Training Epoch 12: 100%|██████████| 36/36 [00:00<00:00, 932.72it/s]\n",
      "Validation Epoch 12: 100%|██████████| 9/9 [00:00<00:00, 7134.52it/s]\n"
     ]
    },
    {
     "name": "stdout",
     "output_type": "stream",
     "text": [
      "Epoch 12/40, Train Loss: 0.11834054913437157, Train Accuracy: 0.6350877192982456, Validation Loss: 0.12995146277924657, Validation Accuracy: 0.49295774647887325\n"
     ]
    },
    {
     "name": "stderr",
     "output_type": "stream",
     "text": [
      "Training Epoch 13: 100%|██████████| 36/36 [00:00<00:00, 1930.78it/s]\n",
      "Validation Epoch 13: 100%|██████████| 9/9 [00:00<00:00, 8071.14it/s]\n"
     ]
    },
    {
     "name": "stdout",
     "output_type": "stream",
     "text": [
      "Epoch 13/40, Train Loss: 0.1166134144130506, Train Accuracy: 0.6385964912280702, Validation Loss: 0.12907784757479815, Validation Accuracy: 0.5211267605633803\n"
     ]
    },
    {
     "name": "stderr",
     "output_type": "stream",
     "text": [
      "Training Epoch 14: 100%|██████████| 36/36 [00:00<00:00, 1939.76it/s]\n",
      "Validation Epoch 14: 100%|██████████| 9/9 [00:00<00:00, 7472.04it/s]\n"
     ]
    },
    {
     "name": "stdout",
     "output_type": "stream",
     "text": [
      "Epoch 14/40, Train Loss: 0.11587214532651399, Train Accuracy: 0.6701754385964912, Validation Loss: 0.12855571760258205, Validation Accuracy: 0.5211267605633803\n"
     ]
    },
    {
     "name": "stderr",
     "output_type": "stream",
     "text": [
      "Training Epoch 15: 100%|██████████| 36/36 [00:00<00:00, 1946.89it/s]\n",
      "Validation Epoch 15: 100%|██████████| 9/9 [00:00<00:00, 7638.35it/s]\n"
     ]
    },
    {
     "name": "stdout",
     "output_type": "stream",
     "text": [
      "Epoch 15/40, Train Loss: 0.11418774441668862, Train Accuracy: 0.6701754385964912, Validation Loss: 0.12696608942998966, Validation Accuracy: 0.5352112676056338\n"
     ]
    },
    {
     "name": "stderr",
     "output_type": "stream",
     "text": [
      "Training Epoch 16: 100%|██████████| 36/36 [00:00<00:00, 1966.64it/s]\n",
      "Validation Epoch 16: 100%|██████████| 9/9 [00:00<00:00, 7950.45it/s]\n"
     ]
    },
    {
     "name": "stdout",
     "output_type": "stream",
     "text": [
      "Epoch 16/40, Train Loss: 0.11286589471917403, Train Accuracy: 0.6877192982456141, Validation Loss: 0.1265508238698395, Validation Accuracy: 0.5211267605633803\n"
     ]
    },
    {
     "name": "stderr",
     "output_type": "stream",
     "text": [
      "Training Epoch 17: 100%|██████████| 36/36 [00:00<00:00, 1912.83it/s]\n",
      "Validation Epoch 17: 100%|██████████| 9/9 [00:00<00:00, 6111.18it/s]\n"
     ]
    },
    {
     "name": "stdout",
     "output_type": "stream",
     "text": [
      "Epoch 17/40, Train Loss: 0.11142107373789738, Train Accuracy: 0.6701754385964912, Validation Loss: 0.12602320691229593, Validation Accuracy: 0.5211267605633803\n"
     ]
    },
    {
     "name": "stderr",
     "output_type": "stream",
     "text": [
      "Training Epoch 18: 100%|██████████| 36/36 [00:00<00:00, 974.79it/s]\n",
      "Validation Epoch 18: 100%|██████████| 9/9 [00:00<00:00, 3426.10it/s]\n"
     ]
    },
    {
     "name": "stdout",
     "output_type": "stream",
     "text": [
      "Epoch 18/40, Train Loss: 0.11004900451292071, Train Accuracy: 0.6771929824561403, Validation Loss: 0.1246822308486616, Validation Accuracy: 0.5211267605633803\n"
     ]
    },
    {
     "name": "stderr",
     "output_type": "stream",
     "text": [
      "Training Epoch 19: 100%|██████████| 36/36 [00:00<00:00, 906.41it/s]\n",
      "Validation Epoch 19: 100%|██████████| 9/9 [00:00<00:00, 3581.81it/s]\n"
     ]
    },
    {
     "name": "stdout",
     "output_type": "stream",
     "text": [
      "Epoch 19/40, Train Loss: 0.10860644097913776, Train Accuracy: 0.6912280701754386, Validation Loss: 0.12415299952869684, Validation Accuracy: 0.5211267605633803\n"
     ]
    },
    {
     "name": "stderr",
     "output_type": "stream",
     "text": [
      "Training Epoch 20: 100%|██████████| 36/36 [00:00<00:00, 1768.03it/s]\n",
      "Validation Epoch 20: 100%|██████████| 9/9 [00:00<00:00, 7467.60it/s]\n"
     ]
    },
    {
     "name": "stdout",
     "output_type": "stream",
     "text": [
      "Epoch 20/40, Train Loss: 0.10735890175166883, Train Accuracy: 0.7052631578947368, Validation Loss: 0.12426603092274195, Validation Accuracy: 0.5211267605633803\n"
     ]
    },
    {
     "name": "stderr",
     "output_type": "stream",
     "text": [
      "Training Epoch 21: 100%|██████████| 36/36 [00:00<00:00, 1712.17it/s]\n",
      "Validation Epoch 21: 100%|██████████| 9/9 [00:00<00:00, 7838.19it/s]\n"
     ]
    },
    {
     "name": "stdout",
     "output_type": "stream",
     "text": [
      "Epoch 21/40, Train Loss: 0.10613008967617102, Train Accuracy: 0.6947368421052632, Validation Loss: 0.12319320608192766, Validation Accuracy: 0.5211267605633803\n"
     ]
    },
    {
     "name": "stderr",
     "output_type": "stream",
     "text": [
      "Training Epoch 22: 100%|██████████| 36/36 [00:00<00:00, 1664.46it/s]\n",
      "Validation Epoch 22: 100%|██████████| 9/9 [00:00<00:00, 7759.25it/s]\n"
     ]
    },
    {
     "name": "stdout",
     "output_type": "stream",
     "text": [
      "Epoch 22/40, Train Loss: 0.1051644904571667, Train Accuracy: 0.7052631578947368, Validation Loss: 0.12222382132436188, Validation Accuracy: 0.5211267605633803\n"
     ]
    },
    {
     "name": "stderr",
     "output_type": "stream",
     "text": [
      "Training Epoch 23: 100%|██████████| 36/36 [00:00<00:00, 1680.45it/s]\n",
      "Validation Epoch 23: 100%|██████████| 9/9 [00:00<00:00, 7678.75it/s]\n"
     ]
    },
    {
     "name": "stdout",
     "output_type": "stream",
     "text": [
      "Epoch 23/40, Train Loss: 0.10386389828564828, Train Accuracy: 0.7052631578947368, Validation Loss: 0.12163309648003377, Validation Accuracy: 0.5211267605633803\n"
     ]
    },
    {
     "name": "stderr",
     "output_type": "stream",
     "text": [
      "Training Epoch 24: 100%|██████████| 36/36 [00:00<00:00, 1760.55it/s]\n",
      "Validation Epoch 24: 100%|██████████| 9/9 [00:00<00:00, 7928.74it/s]\n"
     ]
    },
    {
     "name": "stdout",
     "output_type": "stream",
     "text": [
      "Epoch 24/40, Train Loss: 0.10273263266212061, Train Accuracy: 0.7157894736842105, Validation Loss: 0.121613923092963, Validation Accuracy: 0.5211267605633803\n"
     ]
    },
    {
     "name": "stderr",
     "output_type": "stream",
     "text": [
      "Training Epoch 25: 100%|██████████| 36/36 [00:00<00:00, 1774.01it/s]\n",
      "Validation Epoch 25: 100%|██████████| 9/9 [00:00<00:00, 7872.52it/s]\n"
     ]
    },
    {
     "name": "stdout",
     "output_type": "stream",
     "text": [
      "Epoch 25/40, Train Loss: 0.10185226557547586, Train Accuracy: 0.7087719298245614, Validation Loss: 0.1205515399785109, Validation Accuracy: 0.5211267605633803\n"
     ]
    },
    {
     "name": "stderr",
     "output_type": "stream",
     "text": [
      "Training Epoch 26: 100%|██████████| 36/36 [00:00<00:00, 1738.89it/s]\n",
      "Validation Epoch 26: 100%|██████████| 9/9 [00:00<00:00, 7875.81it/s]\n"
     ]
    },
    {
     "name": "stdout",
     "output_type": "stream",
     "text": [
      "Epoch 26/40, Train Loss: 0.10110240505452742, Train Accuracy: 0.712280701754386, Validation Loss: 0.11971842487093429, Validation Accuracy: 0.5211267605633803\n"
     ]
    },
    {
     "name": "stderr",
     "output_type": "stream",
     "text": [
      "Training Epoch 27: 100%|██████████| 36/36 [00:00<00:00, 1743.31it/s]\n",
      "Validation Epoch 27: 100%|██████████| 9/9 [00:00<00:00, 7854.50it/s]\n"
     ]
    },
    {
     "name": "stdout",
     "output_type": "stream",
     "text": [
      "Epoch 27/40, Train Loss: 0.09982104866128219, Train Accuracy: 0.7228070175438597, Validation Loss: 0.1196741671629355, Validation Accuracy: 0.5211267605633803\n"
     ]
    },
    {
     "name": "stderr",
     "output_type": "stream",
     "text": [
      "Training Epoch 28: 100%|██████████| 36/36 [00:00<00:00, 1758.41it/s]\n",
      "Validation Epoch 28: 100%|██████████| 9/9 [00:00<00:00, 7913.78it/s]\n"
     ]
    },
    {
     "name": "stdout",
     "output_type": "stream",
     "text": [
      "Epoch 28/40, Train Loss: 0.0987420257769133, Train Accuracy: 0.7157894736842105, Validation Loss: 0.11874009018212976, Validation Accuracy: 0.5352112676056338\n"
     ]
    },
    {
     "name": "stderr",
     "output_type": "stream",
     "text": [
      "Training Epoch 29: 100%|██████████| 36/36 [00:00<00:00, 1778.52it/s]\n",
      "Validation Epoch 29: 100%|██████████| 9/9 [00:00<00:00, 7573.98it/s]\n"
     ]
    },
    {
     "name": "stdout",
     "output_type": "stream",
     "text": [
      "Epoch 29/40, Train Loss: 0.09790436384970681, Train Accuracy: 0.7228070175438597, Validation Loss: 0.11875113802896418, Validation Accuracy: 0.5352112676056338\n"
     ]
    },
    {
     "name": "stderr",
     "output_type": "stream",
     "text": [
      "Training Epoch 30: 100%|██████████| 36/36 [00:00<00:00, 1680.58it/s]\n",
      "Validation Epoch 30: 100%|██████████| 9/9 [00:00<00:00, 7841.45it/s]\n"
     ]
    },
    {
     "name": "stdout",
     "output_type": "stream",
     "text": [
      "Epoch 30/40, Train Loss: 0.09682893585740474, Train Accuracy: 0.7192982456140351, Validation Loss: 0.11843001758548576, Validation Accuracy: 0.5211267605633803\n"
     ]
    },
    {
     "name": "stderr",
     "output_type": "stream",
     "text": [
      "Training Epoch 31: 100%|██████████| 36/36 [00:00<00:00, 1702.60it/s]\n",
      "Validation Epoch 31: 100%|██████████| 9/9 [00:00<00:00, 7841.45it/s]\n"
     ]
    },
    {
     "name": "stdout",
     "output_type": "stream",
     "text": [
      "Epoch 31/40, Train Loss: 0.09583383213009751, Train Accuracy: 0.7333333333333333, Validation Loss: 0.1172209919338495, Validation Accuracy: 0.5352112676056338\n"
     ]
    },
    {
     "name": "stderr",
     "output_type": "stream",
     "text": [
      "Training Epoch 32: 100%|██████████| 36/36 [00:00<00:00, 1621.09it/s]\n",
      "Validation Epoch 32: 100%|██████████| 9/9 [00:00<00:00, 7999.31it/s]\n"
     ]
    },
    {
     "name": "stdout",
     "output_type": "stream",
     "text": [
      "Epoch 32/40, Train Loss: 0.09509606424130891, Train Accuracy: 0.7368421052631579, Validation Loss: 0.11713452658183138, Validation Accuracy: 0.5352112676056338\n"
     ]
    },
    {
     "name": "stderr",
     "output_type": "stream",
     "text": [
      "Training Epoch 33: 100%|██████████| 36/36 [00:00<00:00, 1561.24it/s]\n",
      "Validation Epoch 33: 100%|██████████| 9/9 [00:00<00:00, 6101.30it/s]\n"
     ]
    },
    {
     "name": "stdout",
     "output_type": "stream",
     "text": [
      "Epoch 33/40, Train Loss: 0.09428498117547286, Train Accuracy: 0.743859649122807, Validation Loss: 0.11708649027515465, Validation Accuracy: 0.5211267605633803\n"
     ]
    },
    {
     "name": "stderr",
     "output_type": "stream",
     "text": [
      "Training Epoch 34: 100%|██████████| 36/36 [00:00<00:00, 1229.17it/s]\n",
      "Validation Epoch 34: 100%|██████████| 9/9 [00:00<00:00, 3418.65it/s]\n"
     ]
    },
    {
     "name": "stdout",
     "output_type": "stream",
     "text": [
      "Epoch 34/40, Train Loss: 0.0935172668674536, Train Accuracy: 0.7263157894736842, Validation Loss: 0.11761124285174088, Validation Accuracy: 0.5352112676056338\n"
     ]
    },
    {
     "name": "stderr",
     "output_type": "stream",
     "text": [
      "Training Epoch 35: 100%|██████████| 36/36 [00:00<00:00, 1448.81it/s]\n",
      "Validation Epoch 35: 100%|██████████| 9/9 [00:00<00:00, 7186.13it/s]\n"
     ]
    },
    {
     "name": "stdout",
     "output_type": "stream",
     "text": [
      "Epoch 35/40, Train Loss: 0.09224819373666195, Train Accuracy: 0.7403508771929824, Validation Loss: 0.11546883868499541, Validation Accuracy: 0.5211267605633803\n"
     ]
    },
    {
     "name": "stderr",
     "output_type": "stream",
     "text": [
      "Training Epoch 36: 100%|██████████| 36/36 [00:00<00:00, 1351.11it/s]\n",
      "Validation Epoch 36: 100%|██████████| 9/9 [00:00<00:00, 6451.67it/s]\n"
     ]
    },
    {
     "name": "stdout",
     "output_type": "stream",
     "text": [
      "Epoch 36/40, Train Loss: 0.09249682823816935, Train Accuracy: 0.7403508771929824, Validation Loss: 0.11571414034131547, Validation Accuracy: 0.5352112676056338\n"
     ]
    },
    {
     "name": "stderr",
     "output_type": "stream",
     "text": [
      "Training Epoch 37: 100%|██████████| 36/36 [00:00<00:00, 1218.92it/s]\n",
      "Validation Epoch 37: 100%|██████████| 9/9 [00:00<00:00, 3416.79it/s]\n"
     ]
    },
    {
     "name": "stdout",
     "output_type": "stream",
     "text": [
      "Epoch 37/40, Train Loss: 0.09068438578070256, Train Accuracy: 0.7368421052631579, Validation Loss: 0.11493788638585051, Validation Accuracy: 0.5070422535211268\n"
     ]
    },
    {
     "name": "stderr",
     "output_type": "stream",
     "text": [
      "Training Epoch 38: 100%|██████████| 36/36 [00:00<00:00, 881.16it/s]\n",
      "Validation Epoch 38: 100%|██████████| 9/9 [00:00<00:00, 6264.31it/s]\n"
     ]
    },
    {
     "name": "stdout",
     "output_type": "stream",
     "text": [
      "Epoch 38/40, Train Loss: 0.09042271323371352, Train Accuracy: 0.7403508771929824, Validation Loss: 0.11478543533405787, Validation Accuracy: 0.5070422535211268\n"
     ]
    },
    {
     "name": "stderr",
     "output_type": "stream",
     "text": [
      "Training Epoch 39: 100%|██████████| 36/36 [00:00<00:00, 1640.07it/s]\n",
      "Validation Epoch 39: 100%|██████████| 9/9 [00:00<00:00, 6403.52it/s]\n"
     ]
    },
    {
     "name": "stdout",
     "output_type": "stream",
     "text": [
      "Epoch 39/40, Train Loss: 0.08898749989375733, Train Accuracy: 0.7508771929824561, Validation Loss: 0.1138011460572901, Validation Accuracy: 0.5070422535211268\n"
     ]
    },
    {
     "name": "stderr",
     "output_type": "stream",
     "text": [
      "Training Epoch 40: 100%|██████████| 36/36 [00:00<00:00, 1645.95it/s]\n",
      "Validation Epoch 40: 100%|██████████| 9/9 [00:00<00:00, 7818.71it/s]\n"
     ]
    },
    {
     "name": "stdout",
     "output_type": "stream",
     "text": [
      "Epoch 40/40, Train Loss: 0.08927963710667794, Train Accuracy: 0.7403508771929824, Validation Loss: 0.11493499262232176, Validation Accuracy: 0.5211267605633803\n"
     ]
    },
    {
     "data": {
      "image/png": "[encoded data removed]",
      "text/plain": [
       "<Figure size 1200x500 with 2 Axes>"
      ]
     },
     "metadata": {},
     "output_type": "display_data"
    }
   ],
   "source": [
    "# Define the MLP model\n",
    "class MLP(nn.Module):\n",
    "    def __init__(self, input_dim, output_dim):\n",
    "        super(MLP, self).__init__()\n",
    "        self.model = nn.Sequential(\n",
    "            nn.Linear(input_dim, 256),\n",
    "            nn.ReLU(),\n",
    "            nn.Linear(256, output_dim)\n",
    "        )\n",
    "\n",
    "    def forward(self, x):\n",
    "        x = self.model(x)\n",
    "        return x\n",
    "\n",
    "mlp_model = MLP(input_dim=train_embeddings.shape[1], output_dim=3)\n",
    "\n",
    "# Define loss function and optimizer\n",
    "criterion = nn.CrossEntropyLoss()\n",
    "optimizer = optim.Adam(mlp_model.parameters(), lr=3e-5)\n",
    "\n",
    "# Variables to store losses and accuracy\n",
    "train_losses = []\n",
    "val_losses = []\n",
    "train_accuracies = []\n",
    "val_accuracies = []\n",
    "best_val_accuracy = 0.0\n",
    "best_model_state = None\n",
    "\n",
    "# Train the MLP model\n",
    "num_epochs = 40\n",
    "for epoch in range(num_epochs):\n",
    "    mlp_model.train()\n",
    "    train_loss = 0\n",
    "    correct_train = 0\n",
    "    total_train = 0\n",
    "    for inputs, labels in tqdm(DataLoader(train_dataset, batch_size=8, shuffle=True), desc=f\"Training Epoch {epoch+1}\"):\n",
    "        optimizer.zero_grad()\n",
    "        outputs = mlp_model(inputs)\n",
    "        loss = criterion(outputs, labels)\n",
    "        loss.backward()\n",
    "        optimizer.step()\n",
    "        train_loss += loss.item()\n",
    "        _, predicted_train = torch.max(outputs.data, 1)\n",
    "        total_train += labels.size(0)\n",
    "        correct_train += (predicted_train == labels).sum().item()\n",
    "    train_losses.append(train_loss / len(train_dataset))\n",
    "    train_accuracy = correct_train / total_train\n",
    "    train_accuracies.append(train_accuracy)\n",
    "\n",
    "    # Validation\n",
    "    mlp_model.eval()\n",
    "    val_loss = 0\n",
    "    correct_val = 0\n",
    "    total_val = 0\n",
    "    with torch.no_grad():\n",
    "        for inputs, labels in tqdm(DataLoader(val_dataset, batch_size=8, shuffle=False), desc=f\"Validation Epoch {epoch+1}\"):\n",
    "            outputs = mlp_model(inputs)\n",
    "            loss = criterion(outputs, labels)\n",
    "            val_loss += loss.item()\n",
    "            _, predicted_val = torch.max(outputs.data, 1)\n",
    "            total_val += labels.size(0)\n",
    "            correct_val += (predicted_val == labels).sum().item()\n",
    "    val_losses.append(val_loss / len(val_dataset))\n",
    "    val_accuracy = correct_val / total_val\n",
    "    val_accuracies.append(val_accuracy)\n",
    "\n",
    "    # Save the best model\n",
    "    if val_accuracy > best_val_accuracy:\n",
    "        best_val_accuracy = val_accuracy\n",
    "        best_model_state = mlp_model.state_dict()\n",
    "\n",
    "    print(f\"Epoch {epoch+1}/{num_epochs}, Train Loss: {train_loss/len(train_dataset)}, Train Accuracy: {train_accuracy}, Validation Loss: {val_loss/len(val_dataset)}, Validation Accuracy: {val_accuracy}\")\n",
    "\n",
    "# Save the best model\n",
    "torch.save(best_model_state, \"best_mlp_model.pth\")\n",
    "\n",
    "# Plot the losses and accuracy\n",
    "import matplotlib.pyplot as plt\n",
    "\n",
    "plt.figure(figsize=(12, 5))\n",
    "plt.subplot(1, 2, 1)\n",
    "plt.plot(train_losses, label='Train Loss')\n",
    "plt.plot(val_losses, label='Validation Loss')\n",
    "plt.xlabel('Epoch')\n",
    "plt.ylabel('Loss')\n",
    "plt.legend()\n",
    "plt.title('Loss vs. Epochs')\n",
    "\n",
    "plt.subplot(1, 2, 2)\n",
    "plt.plot(train_accuracies, label='Train Accuracy')\n",
    "plt.plot(val_accuracies, label='Validation Accuracy')\n",
    "plt.xlabel('Epoch')\n",
    "plt.ylabel('Accuracy')\n",
    "plt.legend()\n",
    "plt.title('Accuracy vs. Epochs')\n",
    "\n",
    "plt.show()"
   ]
  },
  {
   "cell_type": "code",
   "execution_count": 6,
   "metadata": {},
   "outputs": [
    {
     "name": "stdout",
     "output_type": "stream",
     "text": [
      "Precision: 0.7181\n",
      "Accuracy: 0.7250\n",
      "F1 Score: 0.7173\n",
      "Confusion Matrix:\n",
      "[[19  0  0]\n",
      " [ 0  3  4]\n",
      " [ 2  5  7]]\n"
     ]
    }
   ],
   "source": [
    "# evaluate on test set: precision, accuracy, f1 score, confusion matrix\n",
    "from sklearn.metrics import precision_score, accuracy_score, f1_score, confusion_matrix\n",
    "import numpy as np\n",
    "\n",
    "# Get predictions by best model from file\n",
    "best_model = MLP(input_dim=test_embeddings.shape[1], output_dim=3)\n",
    "best_model.load_state_dict(torch.load(\"best_mlp_model.pth\"))\n",
    "best_model.eval()\n",
    "\n",
    "# Get predictions\n",
    "preds = []\n",
    "with torch.no_grad():\n",
    "    for inputs, labels in DataLoader(test_dataset, batch_size=8, shuffle=False):\n",
    "        outputs = best_model(inputs)\n",
    "        _, predicted = torch.max(outputs.data, 1)\n",
    "        preds.extend(predicted.tolist())\n",
    "\n",
    "# Compute metrics\n",
    "precision = precision_score(test_labels, preds, average='weighted')\n",
    "accuracy = accuracy_score(test_labels, preds)\n",
    "f1 = f1_score(test_labels, preds, average='weighted')\n",
    "conf_matrix = confusion_matrix(test_labels, preds)\n",
    "\n",
    "# Print the metrics\n",
    "print(f\"Precision: {precision:.4f}\")\n",
    "print(f\"Accuracy: {accuracy:.4f}\")\n",
    "print(f\"F1 Score: {f1:.4f}\")\n",
    "print(\"Confusion Matrix:\")\n",
    "print(conf_matrix)"
   ]
  }
 ],
 "metadata": {
  "kernelspec": {
   "display_name": "base",
   "language": "python",
   "name": "python3"
  },
  "language_info": {
   "codemirror_mode": {
    "name": "ipython",
    "version": 3
   },
   "file_extension": ".py",
   "mimetype": "text/x-python",
   "name": "python",
   "nbconvert_exporter": "python",
   "pygments_lexer": "ipython3",
   "version": "3.12.8"
  }
 },
 "nbformat": 4,
 "nbformat_minor": 2
}
